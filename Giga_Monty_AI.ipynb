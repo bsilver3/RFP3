{
 "cells": [
  {
   "cell_type": "code",
   "execution_count": 1,
   "metadata": {},
   "outputs": [
    {
     "name": "stdout",
     "output_type": "stream",
     "text": [
      "Requirement already satisfied: gymnasium in c:\\users\\ntorr\\appdata\\local\\packages\\pythonsoftwarefoundation.python.3.11_qbz5n2kfra8p0\\localcache\\local-packages\\python311\\site-packages (0.29.1)\n",
      "Requirement already satisfied: renderlab in c:\\users\\ntorr\\appdata\\local\\packages\\pythonsoftwarefoundation.python.3.11_qbz5n2kfra8p0\\localcache\\local-packages\\python311\\site-packages (0.1.20230421184216)\n",
      "Requirement already satisfied: numpy>=1.21.0 in c:\\users\\ntorr\\appdata\\local\\packages\\pythonsoftwarefoundation.python.3.11_qbz5n2kfra8p0\\localcache\\local-packages\\python311\\site-packages (from gymnasium) (1.26.2)\n",
      "Requirement already satisfied: cloudpickle>=1.2.0 in c:\\users\\ntorr\\appdata\\local\\packages\\pythonsoftwarefoundation.python.3.11_qbz5n2kfra8p0\\localcache\\local-packages\\python311\\site-packages (from gymnasium) (3.0.0)\n",
      "Requirement already satisfied: typing-extensions>=4.3.0 in c:\\users\\ntorr\\appdata\\local\\packages\\pythonsoftwarefoundation.python.3.11_qbz5n2kfra8p0\\localcache\\local-packages\\python311\\site-packages (from gymnasium) (4.9.0)\n",
      "Requirement already satisfied: farama-notifications>=0.0.1 in c:\\users\\ntorr\\appdata\\local\\packages\\pythonsoftwarefoundation.python.3.11_qbz5n2kfra8p0\\localcache\\local-packages\\python311\\site-packages (from gymnasium) (0.0.4)\n",
      "Requirement already satisfied: moviepy in c:\\users\\ntorr\\appdata\\local\\packages\\pythonsoftwarefoundation.python.3.11_qbz5n2kfra8p0\\localcache\\local-packages\\python311\\site-packages (from renderlab) (1.0.3)\n",
      "Requirement already satisfied: decorator<5.0,>=4.0.2 in c:\\users\\ntorr\\appdata\\local\\packages\\pythonsoftwarefoundation.python.3.11_qbz5n2kfra8p0\\localcache\\local-packages\\python311\\site-packages (from moviepy->renderlab) (4.4.2)\n",
      "Requirement already satisfied: tqdm<5.0,>=4.11.2 in c:\\users\\ntorr\\appdata\\local\\packages\\pythonsoftwarefoundation.python.3.11_qbz5n2kfra8p0\\localcache\\local-packages\\python311\\site-packages (from moviepy->renderlab) (4.66.1)\n",
      "Requirement already satisfied: requests<3.0,>=2.8.1 in c:\\users\\ntorr\\appdata\\local\\packages\\pythonsoftwarefoundation.python.3.11_qbz5n2kfra8p0\\localcache\\local-packages\\python311\\site-packages (from moviepy->renderlab) (2.31.0)\n",
      "Requirement already satisfied: proglog<=1.0.0 in c:\\users\\ntorr\\appdata\\local\\packages\\pythonsoftwarefoundation.python.3.11_qbz5n2kfra8p0\\localcache\\local-packages\\python311\\site-packages (from moviepy->renderlab) (0.1.10)\n",
      "Requirement already satisfied: imageio<3.0,>=2.5 in c:\\users\\ntorr\\appdata\\local\\packages\\pythonsoftwarefoundation.python.3.11_qbz5n2kfra8p0\\localcache\\local-packages\\python311\\site-packages (from moviepy->renderlab) (2.34.0)\n",
      "Requirement already satisfied: imageio-ffmpeg>=0.2.0 in c:\\users\\ntorr\\appdata\\local\\packages\\pythonsoftwarefoundation.python.3.11_qbz5n2kfra8p0\\localcache\\local-packages\\python311\\site-packages (from moviepy->renderlab) (0.4.9)\n",
      "Requirement already satisfied: pillow>=8.3.2 in c:\\users\\ntorr\\appdata\\local\\packages\\pythonsoftwarefoundation.python.3.11_qbz5n2kfra8p0\\localcache\\local-packages\\python311\\site-packages (from imageio<3.0,>=2.5->moviepy->renderlab) (10.2.0)\n",
      "Requirement already satisfied: setuptools in c:\\program files\\windowsapps\\pythonsoftwarefoundation.python.3.11_3.11.2544.0_x64__qbz5n2kfra8p0\\lib\\site-packages (from imageio-ffmpeg>=0.2.0->moviepy->renderlab) (65.5.0)\n",
      "Requirement already satisfied: charset-normalizer<4,>=2 in c:\\users\\ntorr\\appdata\\local\\packages\\pythonsoftwarefoundation.python.3.11_qbz5n2kfra8p0\\localcache\\local-packages\\python311\\site-packages (from requests<3.0,>=2.8.1->moviepy->renderlab) (3.3.2)\n",
      "Requirement already satisfied: idna<4,>=2.5 in c:\\users\\ntorr\\appdata\\local\\packages\\pythonsoftwarefoundation.python.3.11_qbz5n2kfra8p0\\localcache\\local-packages\\python311\\site-packages (from requests<3.0,>=2.8.1->moviepy->renderlab) (3.6)\n",
      "Requirement already satisfied: urllib3<3,>=1.21.1 in c:\\users\\ntorr\\appdata\\local\\packages\\pythonsoftwarefoundation.python.3.11_qbz5n2kfra8p0\\localcache\\local-packages\\python311\\site-packages (from requests<3.0,>=2.8.1->moviepy->renderlab) (2.2.0)\n",
      "Requirement already satisfied: certifi>=2017.4.17 in c:\\users\\ntorr\\appdata\\local\\packages\\pythonsoftwarefoundation.python.3.11_qbz5n2kfra8p0\\localcache\\local-packages\\python311\\site-packages (from requests<3.0,>=2.8.1->moviepy->renderlab) (2024.2.2)\n",
      "Requirement already satisfied: colorama in c:\\users\\ntorr\\appdata\\local\\packages\\pythonsoftwarefoundation.python.3.11_qbz5n2kfra8p0\\localcache\\local-packages\\python311\\site-packages (from tqdm<5.0,>=4.11.2->moviepy->renderlab) (0.4.6)\n",
      "Note: you may need to restart the kernel to use updated packages.\n",
      "Requirement already satisfied: opencv-python in c:\\users\\ntorr\\appdata\\local\\packages\\pythonsoftwarefoundation.python.3.11_qbz5n2kfra8p0\\localcache\\local-packages\\python311\\site-packages (4.9.0.80)\n",
      "Requirement already satisfied: numpy>=1.21.2 in c:\\users\\ntorr\\appdata\\local\\packages\\pythonsoftwarefoundation.python.3.11_qbz5n2kfra8p0\\localcache\\local-packages\\python311\\site-packages (from opencv-python) (1.26.2)\n",
      "Note: you may need to restart the kernel to use updated packages.\n",
      "Requirement already satisfied: pygame in c:\\users\\ntorr\\appdata\\local\\packages\\pythonsoftwarefoundation.python.3.11_qbz5n2kfra8p0\\localcache\\local-packages\\python311\\site-packages (2.5.2)\n",
      "Note: you may need to restart the kernel to use updated packages.\n"
     ]
    }
   ],
   "source": [
    "%pip install gymnasium renderlab\n",
    "\n",
    "%pip install opencv-python\n",
    "\n",
    "%pip install pygame"
   ]
  },
  {
   "cell_type": "code",
   "execution_count": 11,
   "metadata": {},
   "outputs": [],
   "source": [
    "import gymnasium as gym\n",
    "import sys\n",
    "import keyboard\n",
    "import numpy as np\n",
    "from gymnasium.envs.toy_text.frozen_lake import generate_random_map"
   ]
  },
  {
   "cell_type": "code",
   "execution_count": 11,
   "metadata": {},
   "outputs": [],
   "source": [
    "desc=[\"SFFF\", \"FHHH\", \"FFFF\", \"HFHF\", \"FFGF\"]\n",
    "\n",
    "env = gym.make('FrozenLake-v1', desc=desc, map_name=\"5x5\", is_slippery=False, render_mode=\"human\")\n",
    "\n",
    "observation, info = env.reset()\n"
   ]
  },
  {
   "cell_type": "code",
   "execution_count": 19,
   "metadata": {},
   "outputs": [
    {
     "ename": "ValueError",
     "evalue": "too many values to unpack (expected 4)",
     "output_type": "error",
     "traceback": [
      "\u001b[1;31m---------------------------------------------------------------------------\u001b[0m",
      "\u001b[1;31mValueError\u001b[0m                                Traceback (most recent call last)",
      "Cell \u001b[1;32mIn[19], line 44\u001b[0m\n\u001b[0;32m     42\u001b[0m \u001b[38;5;66;03m# Train the agent\u001b[39;00m\n\u001b[0;32m     43\u001b[0m num_episodes \u001b[38;5;241m=\u001b[39m \u001b[38;5;241m10\u001b[39m\n\u001b[1;32m---> 44\u001b[0m Q_values \u001b[38;5;241m=\u001b[39m \u001b[43mmonte_carlo\u001b[49m\u001b[43m(\u001b[49m\u001b[43mnum_episodes\u001b[49m\u001b[43m)\u001b[49m\n\u001b[0;32m     46\u001b[0m \u001b[38;5;66;03m# Evaluate the agent\u001b[39;00m\n\u001b[0;32m     47\u001b[0m num_episodes_eval \u001b[38;5;241m=\u001b[39m \u001b[38;5;241m100\u001b[39m\n",
      "Cell \u001b[1;32mIn[19], line 26\u001b[0m, in \u001b[0;36mmonte_carlo\u001b[1;34m(num_episodes)\u001b[0m\n\u001b[0;32m     24\u001b[0m \u001b[38;5;28;01mwhile\u001b[39;00m \u001b[38;5;129;01mnot\u001b[39;00m done:\n\u001b[0;32m     25\u001b[0m     action \u001b[38;5;241m=\u001b[39m np\u001b[38;5;241m.\u001b[39mrandom\u001b[38;5;241m.\u001b[39mrandint(num_actions)  \u001b[38;5;66;03m# Random action selection\u001b[39;00m\n\u001b[1;32m---> 26\u001b[0m     next_state, reward, done, _ \u001b[38;5;241m=\u001b[39m env\u001b[38;5;241m.\u001b[39mstep(action)\n\u001b[0;32m     27\u001b[0m     episode_states_actions\u001b[38;5;241m.\u001b[39mappend((state, action, reward))\n\u001b[0;32m     28\u001b[0m     state \u001b[38;5;241m=\u001b[39m next_state\n",
      "\u001b[1;31mValueError\u001b[0m: too many values to unpack (expected 4)"
     ]
    },
    {
     "ename": "",
     "evalue": "",
     "output_type": "error",
     "traceback": [
      "\u001b[1;31mThe Kernel crashed while executing code in the current cell or a previous cell. \n",
      "\u001b[1;31mPlease review the code in the cell(s) to identify a possible cause of the failure. \n",
      "\u001b[1;31mClick <a href='https://aka.ms/vscodeJupyterKernelCrash'>here</a> for more info. \n",
      "\u001b[1;31mView Jupyter <a href='command:jupyter.viewOutput'>log</a> for further details."
     ]
    }
   ],
   "source": [
    "desc=[\"SFFF\", \"FHHH\", \"FFFF\", \"HFHF\", \"FFGF\"]\n",
    "\n",
    "env = gym.make('FrozenLake-v1', desc=desc, map_name=\"5x5\", is_slippery=False, render_mode=\"human\")\n",
    "\n",
    "num_actions = env.action_space.n\n",
    "observation, info = env.reset()\n",
    "\n",
    "def state_action_to_id(state, action):\n",
    "    return state * num_actions + action\n",
    "\n",
    "# Monte Carlo algorithm\n",
    "def monte_carlo(num_episodes):\n",
    "    # Initialize action-value function and state-action visit counts\n",
    "    Q = np.zeros((env.observation_space.n, env.action_space.n))\n",
    "    N = np.zeros((env.observation_space.n, env.action_space.n))\n",
    "    \n",
    "    # Loop through episodes\n",
    "    for episode in range(num_episodes):\n",
    "        episode_states_actions = []  # Store visited states and actions in the episode\n",
    "        state = env.reset()\n",
    "        done = False\n",
    "        \n",
    "        # Generate an episode\n",
    "        while not done:\n",
    "            action = np.random.randint(num_actions)  # Random action selection\n",
    "            next_state, reward, done, _ = env.step(action)\n",
    "            episode_states_actions.append((state, action, reward))\n",
    "            state = next_state\n",
    "        \n",
    "        # Update action-value function\n",
    "        G = 0\n",
    "        for t in range(len(episode_states_actions) - 1, -1, -1):\n",
    "            state, action, reward = episode_states_actions[t]\n",
    "            G += reward\n",
    "            state_action_id = state_action_to_id(state, action)\n",
    "            if state_action_id not in [x[0] for x in episode_states_actions[:t]]:\n",
    "                N[state][action] += 1\n",
    "                Q[state][action] += (G - Q[state][action]) / N[state][action]\n",
    "    \n",
    "    return Q\n",
    "\n",
    "# Train the agent\n",
    "num_episodes = 10\n",
    "Q_values = monte_carlo(env, num_episodes)\n",
    "\n",
    "# Evaluate the agent\n",
    "num_episodes_eval = 100\n",
    "total_reward = 0\n",
    "for _ in range(num_episodes_eval):\n",
    "    state = env.reset()\n",
    "    done = False\n",
    "    while not done:\n",
    "        action = np.argmax(Q_values[state])\n",
    "        state, reward, done, _ = env.step(action)\n",
    "        total_reward += reward\n",
    "\n",
    "average_reward = total_reward / num_episodes_eval"
   ]
  },
  {
   "cell_type": "code",
   "execution_count": 15,
   "metadata": {},
   "outputs": [],
   "source": [
    "#Close the environment (stop the program)\n",
    "env.close()"
   ]
  }
 ],
 "metadata": {
  "kernelspec": {
   "display_name": "Python 3",
   "language": "python",
   "name": "python3"
  },
  "language_info": {
   "codemirror_mode": {
    "name": "ipython",
    "version": 3
   },
   "file_extension": ".py",
   "mimetype": "text/x-python",
   "name": "python",
   "nbconvert_exporter": "python",
   "pygments_lexer": "ipython3",
   "version": "3.11.9"
  }
 },
 "nbformat": 4,
 "nbformat_minor": 2
}
