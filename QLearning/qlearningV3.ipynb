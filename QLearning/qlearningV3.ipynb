{
 "cells": [
  {
   "cell_type": "code",
   "execution_count": 8,
   "metadata": {},
   "outputs": [],
   "source": [
    "import gymnasium as gym\n",
    "from gymnasium.envs.toy_text.frozen_lake import generate_random_map\n",
    "import pandas as pd\n",
    "import numpy as np\n",
    "from tqdm import tqdm\n",
    "import time"
   ]
  },
  {
   "cell_type": "code",
   "execution_count": 9,
   "metadata": {},
   "outputs": [],
   "source": [
    "num_training_sessions = 1000  # Number of training sessions\n",
    "max_episodes = 100  # Maximum number of episodes per training session\n",
    "num_test_episodes_per_session = 10000  # Number of test episodes per training session\n",
    "\n",
    "# Define the testing function\n",
    "def test_agent(Q, num_test_episodes):\n",
    "    total_successes = 0\n",
    "    total_steps = 0\n",
    "    for i in range(num_test_episodes):\n",
    "        state = env.reset()[0]\n",
    "        done = False\n",
    "        steps = 0\n",
    "        while not done:\n",
    "            action = np.argmax(Q[state, :])\n",
    "            state, reward, terminated, truncated, _ = env.step(action)\n",
    "            steps += 1\n",
    "            done = terminated or truncated\n",
    "            if done and reward == 1:\n",
    "                total_successes += 1\n",
    "        total_steps += steps\n",
    "    average_steps = total_steps / num_test_episodes\n",
    "    return total_successes, average_steps"
   ]
  },
  {
   "cell_type": "code",
   "execution_count": 10,
   "metadata": {},
   "outputs": [],
   "source": [
    "def has_converged(old_q_table, new_q_table, threshold=0.00025):\n",
    "    \"\"\"Check if the Q-table has converged.\"\"\"\n",
    "    converged = np.all(np.abs(old_q_table - new_q_table) < threshold)\n",
    "    return converged"
   ]
  },
  {
   "cell_type": "code",
   "execution_count": 11,
   "metadata": {},
   "outputs": [],
   "source": [
    "# Initialize environment and parameters\n",
    "desc = [\"SFFF\", \"FHHH\", \"FFFF\", \"HFHF\", \"FFGF\"]\n",
    "env = gym.make('FrozenLake-v1', desc=desc, map_name=\"5x5\", is_slippery=False)\n",
    "\n",
    "observationSpace = env.observation_space.n\n",
    "actionSpace = env.action_space.n\n",
    "q_table = np.random.rand(observationSpace, actionSpace) * 0.1\n",
    "\n",
    "learning_rate = 0.5\n",
    "discount_factor = 0.95\n",
    "exploration_rate = 1.0\n",
    "min_exploration_rate = 0.01\n",
    "exploration_decay_rate = 0.001\n",
    "max_episodes = 100"
   ]
  },
  {
   "cell_type": "code",
   "execution_count": 12,
   "metadata": {},
   "outputs": [],
   "source": [
    "# Define action choice function\n",
    "def choose_action(state, q_table, exploration_rate):\n",
    "    if np.random.uniform(0, 1) < exploration_rate:\n",
    "        action = env.action_space.sample()\n",
    "    else:\n",
    "        action = np.argmax(q_table[state, :])\n",
    "    return action\n",
    "\n",
    "# Define Q-table update function\n",
    "def update_q_table(state, action, reward, new_state, q_table, learning_rate, discount_factor):\n",
    "    best_future_q = np.max(q_table[new_state, :])\n",
    "    current_q = q_table[state, action]\n",
    "    new_q = (1 - learning_rate) * current_q + learning_rate * (reward + discount_factor * best_future_q)\n",
    "    q_table[state, action] = new_q"
   ]
  },
  {
   "cell_type": "code",
   "execution_count": 13,
   "metadata": {},
   "outputs": [
    {
     "name": "stderr",
     "output_type": "stream",
     "text": [
      "Training Sessions: 100%|██████████| 1000/1000 [12:34<00:00,  1.33it/s]"
     ]
    },
    {
     "name": "stdout",
     "output_type": "stream",
     "text": [
      "Statistics saved to training_testing_statistics.csv\n"
     ]
    },
    {
     "name": "stderr",
     "output_type": "stream",
     "text": [
      "\n"
     ]
    }
   ],
   "source": [
    "# Training and Testing Sessions\n",
    "training_times = []\n",
    "convergence_episodes = []\n",
    "training_successes = []\n",
    "testing_successes = []\n",
    "testing_average_steps = []\n",
    "\n",
    "for training_session in tqdm(range(num_training_sessions), desc='Training Sessions'):\n",
    "    q_table = np.random.rand(observationSpace, actionSpace) * 0.1\n",
    "    previous_q_table = np.copy(q_table)\n",
    "    session_start_time = time.time()\n",
    "\n",
    "    for episode in range(max_episodes):\n",
    "        state = env.reset()[0]\n",
    "        done = False\n",
    "        state_visits = {s: 0 for s in range(observationSpace)}  # Track state visits\n",
    "\n",
    "        while not done:\n",
    "            action = choose_action(state, q_table, exploration_rate)\n",
    "            new_state, reward, terminated, truncated, _ = env.step(action)\n",
    "\n",
    "            # Update state visits count\n",
    "            state_visits[new_state] += 1\n",
    "\n",
    "            # Calculate penalty for visiting the same state\n",
    "            visit_penalty = -0.01 * (2 ** state_visits[new_state])\n",
    "            \n",
    "            # Assign rewards and penalties\n",
    "            if new_state == state:\n",
    "                reward = visit_penalty\n",
    "            else:\n",
    "                if terminated and reward == 0:  # Falling into the ice\n",
    "                    reward = -0.75\n",
    "                elif not terminated:\n",
    "                    reward = 0.0  # Reward for safe move\n",
    "                reward += visit_penalty\n",
    "\n",
    "            update_q_table(state, action, reward, new_state, q_table, learning_rate, discount_factor)\n",
    "\n",
    "            state = new_state\n",
    "            done = terminated or truncated\n",
    "\n",
    "        exploration_rate = max(min_exploration_rate, exploration_rate * exploration_decay_rate)\n",
    "\n",
    "        if has_converged(previous_q_table, q_table):\n",
    "            convergence_episodes.append(episode)\n",
    "            break\n",
    "        previous_q_table = np.copy(q_table)\n",
    "\n",
    "    session_end_time = time.time()\n",
    "    training_times.append(session_end_time - session_start_time)\n",
    "\n",
    "    test_success, average_steps = test_agent(q_table, num_test_episodes_per_session)\n",
    "    testing_successes.append(test_success)\n",
    "    testing_average_steps.append(average_steps)\n",
    "\n",
    "# Save results to a DataFrame and CSV\n",
    "stats_df = pd.DataFrame({\n",
    "    'Training Session': range(1, num_training_sessions + 1),\n",
    "    'Time to Convergence (seconds)': training_times,\n",
    "    'Episodes to Convergence': convergence_episodes,\n",
    "    'Successes (Testing)': testing_successes,\n",
    "    'Average Steps (Testing)': testing_average_steps\n",
    "})\n",
    "csv_filename = 'training_testing_statistics.csv'\n",
    "stats_df.to_csv(csv_filename, index=False)\n",
    "print(f\"Statistics saved to {csv_filename}\")\n"
   ]
  },
  {
   "cell_type": "code",
   "execution_count": 14,
   "metadata": {},
   "outputs": [],
   "source": [
    "env.close()"
   ]
  }
 ],
 "metadata": {
  "kernelspec": {
   "display_name": "Python 3",
   "language": "python",
   "name": "python3"
  },
  "language_info": {
   "codemirror_mode": {
    "name": "ipython",
    "version": 3
   },
   "file_extension": ".py",
   "mimetype": "text/x-python",
   "name": "python",
   "nbconvert_exporter": "python",
   "pygments_lexer": "ipython3",
   "version": "3.11.9"
  }
 },
 "nbformat": 4,
 "nbformat_minor": 2
}
