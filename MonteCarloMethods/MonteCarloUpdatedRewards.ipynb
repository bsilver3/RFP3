{
 "cells": [
  {
   "cell_type": "code",
   "execution_count": 69,
   "metadata": {},
   "outputs": [],
   "source": [
    "import gymnasium as gym\n",
    "import numpy as np\n",
    "from gymnasium.envs.toy_text.frozen_lake import generate_random_map\n"
   ]
  },
  {
   "cell_type": "code",
   "execution_count": 70,
   "metadata": {},
   "outputs": [],
   "source": [
    "desc = [\"SFFF\", \"FHHH\", \"FFFF\", \"HFHF\", \"FFGF\"]\n",
    "#env = gym.make('FrozenLake-v1', desc=desc, map_name=\"5x5\", is_slippery=False, render_mode = \"human\")\n",
    "env = gym.make('FrozenLake-v1', desc=desc, map_name=\"5x5\", is_slippery=False)"
   ]
  },
  {
   "cell_type": "code",
   "execution_count": 71,
   "metadata": {},
   "outputs": [],
   "source": [
    "observation_space = env.observation_space.n\n",
    "action_space = env.action_space.n\n",
    "q_table = np.random.rand(observation_space, action_space) * 0.1\n",
    "learning_rate = 0.8\n",
    "discount_factor = 0.95\n",
    "exploration_rate = 1.0\n",
    "min_exploration_rate = 0.01\n",
    "exploration_decay_rate = 0.001\n",
    "max_episodes = 1000\n",
    "goal_reaches = 0\n"
   ]
  },
  {
   "cell_type": "code",
   "execution_count": 72,
   "metadata": {},
   "outputs": [],
   "source": [
    "def choose_action(state):\n",
    "    if np.random.uniform(0, 1) < exploration_rate:\n",
    "        action = env.action_space.sample()\n",
    "    else:\n",
    "        action = np.argmax(q_table[state, :])\n",
    "    return action\n"
   ]
  },
  {
   "cell_type": "code",
   "execution_count": 73,
   "metadata": {},
   "outputs": [],
   "source": [
    "def update_q_table(state, action, reward, new_state):\n",
    "    best_future_q = np.max(q_table[new_state, :])\n",
    "    current_q = q_table[state, action]\n",
    "    new_q = (1 - learning_rate) * current_q + learning_rate * (reward + discount_factor * best_future_q)\n",
    "    q_table[state, action] = new_q\n",
    "    #print (new_q)\n"
   ]
  },
  {
   "cell_type": "code",
   "execution_count": 82,
   "metadata": {},
   "outputs": [
    {
     "name": "stdout",
     "output_type": "stream",
     "text": [
      "Episode 0/1000 complete. Goal reached 986 times.\n",
      "Episode 100/1000 complete. Goal reached 1086 times.\n",
      "Episode 200/1000 complete. Goal reached 1184 times.\n",
      "Episode 300/1000 complete. Goal reached 1284 times.\n",
      "Episode 400/1000 complete. Goal reached 1382 times.\n",
      "Episode 500/1000 complete. Goal reached 1480 times.\n",
      "Episode 600/1000 complete. Goal reached 1578 times.\n",
      "Episode 700/1000 complete. Goal reached 1676 times.\n",
      "Episode 800/1000 complete. Goal reached 1775 times.\n",
      "Episode 900/1000 complete. Goal reached 1874 times.\n"
     ]
    }
   ],
   "source": [
    "for episode in range(max_episodes):\n",
    "    state = env.reset()[0]\n",
    "    done = False\n",
    "    state_visits = np.zeros(env.observation_space.n)\n",
    "\n",
    "    while not done:\n",
    "        action = choose_action(state)\n",
    "        new_state, reward, terminated, truncated, _ = env.step(action)\n",
    "        \n",
    "        state_visits[new_state] += 1\n",
    "        visit_penalty = -0.01 * (2 ** state_visits[new_state])\n",
    "        \n",
    "        if new_state == state:\n",
    "            reward = visit_penalty\n",
    "        else:\n",
    "            # Check for falling into the ice\n",
    "            if terminated and reward == 0:\n",
    "                reward = -0.75  # Penalty for falling into the ice\n",
    "                #print('ded')\n",
    "            if terminated and reward == 1:\n",
    "                goal_reaches += 1\n",
    "            elif not terminated:\n",
    "                reward = -0.1  # Reward for a safe move\n",
    "            reward += visit_penalty  # Add penalty for repeated visits\n",
    "\n",
    "        update_q_table(state, action, reward, new_state)\n",
    "    \n",
    "        state = new_state\n",
    "        done = terminated or truncated\n",
    "\n",
    "\n",
    "        \n",
    "        exploration_rate = max(min_exploration_rate, exploration_rate * exploration_decay_rate)\n",
    "    if episode % 100 == 0:\n",
    "    \n",
    "        print(f\"Episode {episode}/{max_episodes} complete. Goal reached {goal_reaches} times.\")\n"
   ]
  },
  {
   "cell_type": "code",
   "execution_count": 75,
   "metadata": {},
   "outputs": [],
   "source": [
    "#np.savetxt(\"q_table.csv\", q_table)"
   ]
  },
  {
   "cell_type": "code",
   "execution_count": 76,
   "metadata": {},
   "outputs": [],
   "source": [
    "#q_table = np.loadtxt(\"q_table.csv\")"
   ]
  },
  {
   "cell_type": "code",
   "execution_count": 77,
   "metadata": {},
   "outputs": [],
   "source": [
    "env.close()"
   ]
  }
 ],
 "metadata": {
  "kernelspec": {
   "display_name": "Python 3",
   "language": "python",
   "name": "python3"
  },
  "language_info": {
   "codemirror_mode": {
    "name": "ipython",
    "version": 3
   },
   "file_extension": ".py",
   "mimetype": "text/x-python",
   "name": "python",
   "nbconvert_exporter": "python",
   "pygments_lexer": "ipython3",
   "version": "3.11.9"
  }
 },
 "nbformat": 4,
 "nbformat_minor": 2
}
