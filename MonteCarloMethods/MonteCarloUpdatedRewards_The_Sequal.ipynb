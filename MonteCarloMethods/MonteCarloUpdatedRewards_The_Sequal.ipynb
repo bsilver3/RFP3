{
 "cells": [
  {
   "cell_type": "code",
   "execution_count": 161,
   "metadata": {},
   "outputs": [],
   "source": [
    "import gymnasium as gym\n",
    "import numpy as np\n",
    "from gymnasium.envs.toy_text.frozen_lake import generate_random_map\n",
    "from tqdm import tqdm\n",
    "import time"
   ]
  },
  {
   "cell_type": "code",
   "execution_count": 162,
   "metadata": {},
   "outputs": [],
   "source": [
    "desc = [\"SFFF\", \"FHHH\", \"FFFF\", \"HFHF\", \"FFGF\"]\n",
    "#env = gym.make('FrozenLake-v1', desc=desc, map_name=\"5x5\", is_slippery=False, render_mode = \"human\")\n",
    "env = gym.make('FrozenLake-v1', desc=desc, map_name=\"5x5\", is_slippery=False)"
   ]
  },
  {
   "cell_type": "code",
   "execution_count": 163,
   "metadata": {},
   "outputs": [],
   "source": [
    "observation_space = env.observation_space.n\n",
    "action_space = env.action_space.n\n",
    "q_table = np.random.rand(observation_space, action_space) * 0.1\n",
    "learning_rate = 0.8\n",
    "discount_factor = 0.95\n",
    "exploration_rate = 1.0\n",
    "min_exploration_rate = 0.01\n",
    "exploration_decay_rate = 0.001\n",
    "max_train_episodes = 100\n",
    "max_test_episodes = 10000\n",
    "num_iterations = 1000\n",
    "goal_reaches = 0\n"
   ]
  },
  {
   "cell_type": "code",
   "execution_count": 164,
   "metadata": {},
   "outputs": [],
   "source": [
    "def choose_action(state):\n",
    "    if np.random.uniform(0, 1) < exploration_rate:\n",
    "        action = env.action_space.sample()\n",
    "    else:\n",
    "        action = np.argmax(q_table[state, :])\n",
    "    return action\n"
   ]
  },
  {
   "cell_type": "code",
   "execution_count": 165,
   "metadata": {},
   "outputs": [],
   "source": [
    "def update_q_table(state, action, reward, new_state):\n",
    "    best_future_q = np.max(q_table[new_state, :])\n",
    "    current_q = q_table[state, action]\n",
    "    new_q = (1 - learning_rate) * current_q + learning_rate * (reward + discount_factor * best_future_q)\n",
    "    q_table[state, action] = new_q\n",
    "    #print (new_q)\n"
   ]
  },
  {
   "cell_type": "code",
   "execution_count": 166,
   "metadata": {},
   "outputs": [],
   "source": [
    "train_successrates = []\n",
    "train_episodes = []\n",
    "train_time = []\n",
    "test_successrates = []\n",
    "test_steps = []"
   ]
  },
  {
   "cell_type": "code",
   "execution_count": 167,
   "metadata": {},
   "outputs": [
    {
     "name": "stderr",
     "output_type": "stream",
     "text": [
      "Training Progress:  78%|███████▊  | 777/1000 [49:07<23:22,  6.29s/it]  "
     ]
    },
    {
     "ename": "",
     "evalue": "",
     "output_type": "error",
     "traceback": [
      "\u001b[1;31mThe Kernel crashed while executing code in the current cell or a previous cell. \n",
      "\u001b[1;31mPlease review the code in the cell(s) to identify a possible cause of the failure. \n",
      "\u001b[1;31mClick <a href='https://aka.ms/vscodeJupyterKernelCrash'>here</a> for more info. \n",
      "\u001b[1;31mView Jupyter <a href='command:jupyter.viewOutput'>log</a> for further details."
     ]
    }
   ],
   "source": [
    "for test in tqdm(range(num_iterations), desc='Training Progress'):    \n",
    "    converged = False\n",
    "    episode = 0\n",
    "    numSuccesses = 0\n",
    "    goal_reaches = 0\n",
    "    steps = 0\n",
    "    q_table = np.random.rand(observation_space, action_space) * 0.1\n",
    "    start_time = time.time()  # Start time of training\n",
    "    while not converged and episode < max_train_episodes:\n",
    "        episode += 1\n",
    "        state = env.reset()[0]\n",
    "        done = False\n",
    "        state_visits = np.zeros(env.observation_space.n)\n",
    "\n",
    "        while not done:\n",
    "            \n",
    "            action = choose_action(state)\n",
    "            new_state, reward, terminated, truncated, _ = env.step(action)\n",
    "            \n",
    "            state_visits[new_state] += 1\n",
    "            visit_penalty = -0.01 * (2 ** state_visits[new_state])\n",
    "            \n",
    "            if new_state == state:\n",
    "                reward = visit_penalty\n",
    "            else:\n",
    "                # Check for falling into the ice\n",
    "                if terminated and reward == 0:\n",
    "                    reward = -0.75  # Penalty for falling into the ice\n",
    "                    #print('ded')\n",
    "                if terminated and reward == 1:\n",
    "                    goal_reaches += 1\n",
    "                elif not terminated:\n",
    "                    reward = -0.1  # Reward for a safe move\n",
    "                reward += visit_penalty  # Add penalty for repeated visits\n",
    "            \n",
    "            prev_Q = q_table.copy()\n",
    "\n",
    "            update_q_table(state, action, reward, new_state)\n",
    "\n",
    "            if np.sum(np.abs(q_table - prev_Q)) < 0.00025:\n",
    "                converged = True\n",
    "                break\n",
    "        \n",
    "            state = new_state\n",
    "            done = terminated or truncated\n",
    "            \n",
    "            exploration_rate = max(min_exploration_rate, exploration_rate * exploration_decay_rate)\n",
    "\n",
    "    end_time = time.time()  # End time of training\n",
    "    training_time = end_time - start_time  # Calculate training time in seconds\n",
    "        \n",
    "    train_time.append(training_time)\n",
    "    trainSuccessRate = numSuccesses/max_train_episodes\n",
    "    train_successrates.append(trainSuccessRate)\n",
    "    train_episodes.append(episode)\n",
    "    # print(f\"Episode {episode}/{max_train_episodes} complete. Goal reached {goal_reaches} times.\")\n",
    "    exploration_rate = 0\n",
    "    for iteration in range(max_test_episodes):\n",
    "        episode += 1\n",
    "        state = env.reset()[0]\n",
    "        done = False\n",
    "\n",
    "        while not done:\n",
    "            steps += 1\n",
    "            action = choose_action(state)\n",
    "            new_state, reward, terminated, truncated, _ = env.step(action)\n",
    "            if new_state == state:\n",
    "                reward = visit_penalty\n",
    "            else:\n",
    "                if terminated and reward == 1:\n",
    "                    goal_reaches += 1\n",
    "        \n",
    "            state = new_state\n",
    "            done = terminated or truncated\n",
    "\n",
    "    averageSteps = steps/max_test_episodes\n",
    "    testSuccessRate = numSuccesses/max_test_episodes\n",
    "    test_successrates.append(testSuccessRate)\n",
    "    test_steps.append(averageSteps)\n",
    "\n"
   ]
  },
  {
   "cell_type": "code",
   "execution_count": null,
   "metadata": {},
   "outputs": [],
   "source": [
    "# np.savetxt(\"q_table.csv\", q_table)"
   ]
  },
  {
   "cell_type": "code",
   "execution_count": null,
   "metadata": {},
   "outputs": [],
   "source": [
    "# q_table = np.loadtxt(\"q_table.csv\")"
   ]
  },
  {
   "cell_type": "code",
   "execution_count": null,
   "metadata": {},
   "outputs": [],
   "source": [
    "env.close()"
   ]
  },
  {
   "cell_type": "code",
   "execution_count": null,
   "metadata": {},
   "outputs": [],
   "source": [
    "pd.DataFrame({'Train Episodes': train_episodes, 'Train Success Rates': train_successrates, 'Train Time': train_time, 'Test Steps': test_steps, 'Test Success Rates': test_successrates})"
   ]
  }
 ],
 "metadata": {
  "kernelspec": {
   "display_name": "Python 3",
   "language": "python",
   "name": "python3"
  },
  "language_info": {
   "codemirror_mode": {
    "name": "ipython",
    "version": 3
   },
   "file_extension": ".py",
   "mimetype": "text/x-python",
   "name": "python",
   "nbconvert_exporter": "python",
   "pygments_lexer": "ipython3",
   "version": "3.11.9"
  }
 },
 "nbformat": 4,
 "nbformat_minor": 2
}
